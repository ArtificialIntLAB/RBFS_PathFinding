{
 "cells": [
  {
   "cell_type": "markdown",
   "id": "8b433713",
   "metadata": {},
   "source": [
    "# RBFS"
   ]
  },
  {
   "cell_type": "code",
   "execution_count": 1,
   "id": "48ef75ee",
   "metadata": {},
   "outputs": [],
   "source": [
    "def rbfs(graph,node,f_limit,heuristic):\n",
    "    if node==goal_node:\n",
    "        return [node],0\n",
    "    successors=[]\n",
    "    for neighbor,cost in graph[node].items():\n",
    "        successors.append((neighbor,cost+heuristic[neighbor]))\n",
    "    if not successors:\n",
    "        return None,float('inf')\n",
    "    while True:\n",
    "        successors.sort(key=lambda x:x[1])\n",
    "        best_node,best_f=successors[0]\n",
    "        if best_f>f_limit:\n",
    "            return None,best_f\n",
    "        alternative_f=successors[1][1] if len(successors)>1 else float('inf')\n",
    "        result,best_f=rbfs(graph,best_node,min(f_limit,alternative_f),heuristic)\n",
    "        if result is not None:\n",
    "            return [node]+result,best_f\n",
    "def rbfs_search(graph,start_node,goal_node,heuristic):\n",
    "    result,_=rbfs(graph,start_node,float('inf'),heuristic)\n",
    "    if result is not None:\n",
    "        return '->'.join(result)\n",
    "    else:\n",
    "        return \"No Path Found\""
   ]
  },
  {
   "cell_type": "code",
   "execution_count": 2,
   "id": "56fc0c6b",
   "metadata": {},
   "outputs": [
    {
     "name": "stdout",
     "output_type": "stream",
     "text": [
      "a->s->r->p->b\n"
     ]
    }
   ],
   "source": [
    "graph = {\n",
    "    'o': {'z': 71, 's': 151},\n",
    "    'z': {'o': 71, 'a': 75},\n",
    "    'a': {'z': 75, 't': 118, 's': 140},\n",
    "    't': {'a': 118, 'l': 111},\n",
    "    'l': {'t': 111, 'm': 70},\n",
    "    'm': {'l': 70, 'd': 75},\n",
    "    'd': {'m': 75, 'c': 120},\n",
    "    'c': {'d': 120, 'r': 146, 'p': 138},\n",
    "    'r': {'c': 146, 's': 80, 'p': 97},\n",
    "    's': {'r': 80, 'a': 140, 'o': 151, 'f': 99},\n",
    "    'f': {'s': 99, 'b': 211},\n",
    "    'p': {'r': 97, 'b': 101},\n",
    "    'b': {'f': 211, 'g': 90},\n",
    "    'g': {'b': 90}\n",
    "}\n",
    "\n",
    "heuristic = {\n",
    "    'a': 366, 'b': 0, 'c': 160, 'd': 242, 'l': 244, 'm': 241,'o': 380,\n",
    "    'p': 100, 'r': 193, 's': 253,'t': 329, 'z': 374, 'f': 176, 'g': 77,\n",
    "}\n",
    "start_node = 'a'\n",
    "goal_node = 'b'\n",
    "path=rbfs_search(graph,start_node,goal_node,heuristic)\n",
    "print(path)"
   ]
  },
  {
   "cell_type": "code",
   "execution_count": null,
   "id": "8ce94e26",
   "metadata": {},
   "outputs": [],
   "source": []
  }
 ],
 "metadata": {
  "kernelspec": {
   "display_name": "Python 3 (ipykernel)",
   "language": "python",
   "name": "python3"
  },
  "language_info": {
   "codemirror_mode": {
    "name": "ipython",
    "version": 3
   },
   "file_extension": ".py",
   "mimetype": "text/x-python",
   "name": "python",
   "nbconvert_exporter": "python",
   "pygments_lexer": "ipython3",
   "version": "3.9.12"
  }
 },
 "nbformat": 4,
 "nbformat_minor": 5
}
